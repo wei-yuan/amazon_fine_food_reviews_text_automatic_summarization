{
 "cells": [
  {
   "cell_type": "markdown",
   "metadata": {},
   "source": [
    "# Amazon fine food review data-set inspection\n",
    "\n",
    "\n",
    "## Based on what kaggle master Rohan Rao suggested: \n",
    "## \"One should spent more than 50% in exploring, visualization, summarizing, and aggregation data to get a deep understanding of the data points, features etc\".\n",
    "\n",
    "In this jupyter notebook, we try do know better about Amazon fine food review data-set\n",
    "\n",
    "### Article link: [Platforms Like Kaggle Have Changed The Hiring Landscape, Says Rohan Rao, A Kaggle Grandmaster](https://analyticsindiamag.com/platforms-like-kaggle-changed-hiring-landscape-companies-says-rohan-rao-kaggle-grandmaster-machine-learning-engineer-paytm/)"
   ]
  },
  {
   "cell_type": "markdown",
   "metadata": {},
   "source": [
    "## System requirement \n",
    "* Python >= 3.5"
   ]
  },
  {
   "cell_type": "markdown",
   "metadata": {},
   "source": [
    "### Import Library"
   ]
  },
  {
   "cell_type": "code",
   "execution_count": null,
   "metadata": {},
   "outputs": [],
   "source": [
    "import pandas as pd\n",
    "import numpy as np\n",
    "import tensorflow as tf\n",
    "import re\n",
    "from nltk.corpus import stopwords\n",
    "import time\n",
    "from tensorflow.python.layers.core import Dense\n",
    "from tensorflow.python.ops.rnn_cell_impl import _zero_state_tensors\n",
    "print('TensorFlow Version: {}'.format(tf.__version__))"
   ]
  }
 ],
 "metadata": {
  "kernelspec": {
   "display_name": "Python 3",
   "language": "python",
   "name": "python3"
  },
  "language_info": {
   "codemirror_mode": {
    "name": "ipython",
    "version": 3
   },
   "file_extension": ".py",
   "mimetype": "text/x-python",
   "name": "python",
   "nbconvert_exporter": "python",
   "pygments_lexer": "ipython3",
   "version": "3.5.2"
  }
 },
 "nbformat": 4,
 "nbformat_minor": 2
}
